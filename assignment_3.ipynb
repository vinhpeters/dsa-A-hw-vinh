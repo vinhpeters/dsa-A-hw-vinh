{
 "cells": [
  {
   "cell_type": "markdown",
   "metadata": {},
   "source": [
    "## Problem 1\n"
   ]
  },
  {
   "cell_type": "markdown",
   "metadata": {},
   "source": [
    "### Pseudocode\n",
    "\n",
    "Count frequencies of each item and store the counts in a dictionary. Return key with max frequency.\n",
    "\n",
    "```py\n",
    "def solution(nums)\n",
    "    for nums in nums\n",
    "        if nums in freq\n",
    "            freq[nums]++1\n",
    "        else\n",
    "            freq[nums] = 1\n",
    "    return max(freq)\n",
    "```\n"
   ]
  },
  {
   "cell_type": "code",
   "execution_count": 34,
   "metadata": {},
   "outputs": [],
   "source": [
    "def solution(nums):\n",
    "    freq= {}\n",
    "    for num in nums:\n",
    "        freq[num] = freq[num] + 1 if num in freq else 1\n",
    "    return max(freq)"
   ]
  },
  {
   "cell_type": "code",
   "execution_count": 35,
   "metadata": {},
   "outputs": [
    {
     "name": "stdout",
     "output_type": "stream",
     "text": [
      "3\n",
      "2\n"
     ]
    }
   ],
   "source": [
    "nums = [3,2,3]\n",
    "print(solution(nums))\n",
    "nums = [2,2,1,1,1,2,2]\n",
    "print(solution(nums))"
   ]
  },
  {
   "cell_type": "markdown",
   "metadata": {},
   "source": [
    "## Problem 2"
   ]
  },
  {
   "cell_type": "markdown",
   "metadata": {},
   "source": [
    "### Pseudocode\n",
    "Use three pointers, start, middle and end. Compare value at middle index to target. If target < middle, change end to middle - 1. If target > middle, change start to middle + 1.\n",
    "\n",
    "```py\n",
    "def binaryIterativeSearch(nums, target)\n",
    "    start = 0\n",
    "    end = len(nums)-1\n",
    "\n",
    "    while start < end\n",
    "        middle = floor((end + start)/2)\n",
    "        if nums[middle] == target\n",
    "            return middle\n",
    "\n",
    "        if nums[middle] > target\n",
    "        # Search in lower half, between start and middle\n",
    "        end = middle -1\n",
    "\n",
    "        elif nums[middle] < target\n",
    "        # Search in upper half, between middle and end\n",
    "        start = middle + 1\n",
    "\n",
    "    # Else return -1 if target not found\n",
    "    return -1\n",
    "        \n",
    "```"
   ]
  },
  {
   "cell_type": "code",
   "execution_count": 36,
   "metadata": {},
   "outputs": [],
   "source": [
    "def binaryIterativeSearch(nums, target):\n",
    "    start = 0\n",
    "    end = len(nums)-1\n",
    "\n",
    "    while start <= end:\n",
    "        middle = (end+start) // 2\n",
    "        if nums[middle] == target:\n",
    "            return middle\n",
    "        \n",
    "        elif nums[middle] > target:\n",
    "            end = middle - 1\n",
    "            \n",
    "        elif nums[middle] < target:\n",
    "            start = middle + 1\n",
    "    return -1"
   ]
  },
  {
   "cell_type": "code",
   "execution_count": 37,
   "metadata": {},
   "outputs": [
    {
     "name": "stdout",
     "output_type": "stream",
     "text": [
      "4\n",
      "-1\n"
     ]
    }
   ],
   "source": [
    "nums = [-1,0,3,5,9,12]\n",
    "target = 9\n",
    "print(binaryIterativeSearch(nums, target))\n",
    "\n",
    "nums = [-1,0,3,5,9,12]\n",
    "target = 2\n",
    "print(binaryIterativeSearch(nums, target))"
   ]
  }
 ],
 "metadata": {
  "kernelspec": {
   "display_name": "Python 3.9.4 64-bit",
   "language": "python",
   "name": "python3"
  },
  "language_info": {
   "codemirror_mode": {
    "name": "ipython",
    "version": 3
   },
   "file_extension": ".py",
   "mimetype": "text/x-python",
   "name": "python",
   "nbconvert_exporter": "python",
   "pygments_lexer": "ipython3",
   "version": "3.9.4"
  },
  "orig_nbformat": 4,
  "vscode": {
   "interpreter": {
    "hash": "9fba6359b708aad04e261c3e83789d3be4296e1bd8c7a2f4dc6022df0c95516c"
   }
  }
 },
 "nbformat": 4,
 "nbformat_minor": 2
}
