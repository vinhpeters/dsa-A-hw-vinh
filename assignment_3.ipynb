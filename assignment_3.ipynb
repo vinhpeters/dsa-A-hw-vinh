{
 "cells": [
  {
   "cell_type": "markdown",
   "metadata": {},
   "source": [
    "## Problem 1\n"
   ]
  },
  {
   "cell_type": "markdown",
   "metadata": {},
   "source": [
    "### Pseudocode\n",
    "\n",
    "Count frequencies of each item and store the counts in a dictionary. Return key with max frequency.\n",
    "\n",
    "```py\n",
    "def solution(nums)\n",
    "    for nums in nums\n",
    "        if nums in freq\n",
    "            freq[nums]++1\n",
    "        else\n",
    "            freq[nums] = 1\n",
    "    return max(freq)\n",
    "```\n"
   ]
  },
  {
   "cell_type": "code",
   "execution_count": 1,
   "metadata": {},
   "outputs": [],
   "source": [
    "def solution(nums):\n",
    "    freq= {}\n",
    "    for num in nums:\n",
    "        freq[num] = freq[num] + 1 if num in freq else 1\n",
    "    return max(freq)"
   ]
  },
  {
   "cell_type": "code",
   "execution_count": 2,
   "metadata": {},
   "outputs": [
    {
     "name": "stdout",
     "output_type": "stream",
     "text": [
      "3\n",
      "2\n"
     ]
    }
   ],
   "source": [
    "nums = [3,2,3]\n",
    "print(solution(nums))\n",
    "nums = [2,2,1,1,1,2,2]\n",
    "print(solution(nums))"
   ]
  },
  {
   "cell_type": "markdown",
   "metadata": {},
   "source": [
    "## Problem 2"
   ]
  },
  {
   "cell_type": "markdown",
   "metadata": {},
   "source": [
    "### Pseudocode\n",
    "Use three pointers, start, middle and end. Compare value at middle index to target. If target < middle, change end to middle - 1. If target > middle, change start to middle + 1.\n",
    "\n",
    "```py\n",
    "def binaryIterativeSearch(nums, target)\n",
    "    start = 0\n",
    "    end = len(nums)-1\n",
    "\n",
    "    while start < end\n",
    "        middle = floor((end + start)/2)\n",
    "        if nums[middle] == target\n",
    "            return middle\n",
    "\n",
    "        if nums[middle] > target\n",
    "        # Search in lower half, between start and middle\n",
    "        end = middle -1\n",
    "\n",
    "        elif nums[middle] < target\n",
    "        # Search in upper half, between middle and end\n",
    "        start = middle + 1\n",
    "\n",
    "    # Else return -1 if target not found\n",
    "    return -1\n",
    "        \n",
    "```"
   ]
  },
  {
   "cell_type": "code",
   "execution_count": 3,
   "metadata": {},
   "outputs": [],
   "source": [
    "def binaryIterativeSearch(nums, target):\n",
    "    start = 0\n",
    "    end = len(nums)-1\n",
    "\n",
    "    while start <= end:\n",
    "        middle = (end+start) // 2\n",
    "        if nums[middle] == target:\n",
    "            return middle\n",
    "        \n",
    "        elif nums[middle] > target:\n",
    "            end = middle - 1\n",
    "            \n",
    "        elif nums[middle] < target:\n",
    "            start = middle + 1\n",
    "    return -1"
   ]
  },
  {
   "cell_type": "code",
   "execution_count": 4,
   "metadata": {},
   "outputs": [
    {
     "name": "stdout",
     "output_type": "stream",
     "text": [
      "4\n",
      "-1\n"
     ]
    }
   ],
   "source": [
    "nums = [-1,0,3,5,9,12]\n",
    "target = 9\n",
    "print(binaryIterativeSearch(nums, target))\n",
    "\n",
    "nums = [-1,0,3,5,9,12]\n",
    "target = 2\n",
    "print(binaryIterativeSearch(nums, target))"
   ]
  },
  {
   "cell_type": "markdown",
   "metadata": {},
   "source": [
    "## Bonus Questions"
   ]
  },
  {
   "cell_type": "markdown",
   "metadata": {},
   "source": [
    "## Problem 1 Binary Search"
   ]
  },
  {
   "cell_type": "markdown",
   "metadata": {},
   "source": [
    "### Pseudocode\n",
    "\n",
    "Sort array. For each pair, use binary search to find number closest but not equal to sum of the pair. Eligible numbers for third side will be from the second number in the pair to the number found in the binary search.\n",
    "\n",
    "```py\n",
    "def triangleNumber(nums):\n",
    "    # Sort array\n",
    "    triplets = 0\n",
    "    nums = sort(nums)\n",
    "    # Loop for first number in pair, will be from index 0 to len - 2\n",
    "    for i in range(len(nums)-2)\n",
    "        # Second number in pair, from index 1 to len -1\n",
    "        for k in range(i+1,len(nums)-1)\n",
    "        \n",
    "        # Create pair\n",
    "        pair = (nums[i],nums[k])\n",
    "\n",
    "        # Search remaining numbers\n",
    "        candidate = nums[k+2:len(nums)-1]\n",
    "\n",
    "        # Third side must be < sum(pair)\n",
    "        target = sum(pair)\n",
    "        start = 0\n",
    "        end = len(candidate)\n",
    "\n",
    "        while (start <= end)\n",
    "            middle = (start + end)//2\n",
    "            if candidate[middle] >= target\n",
    "                # Get location of adjacent lower number\n",
    "                end = middle - 1\n",
    "\n",
    "            else\n",
    "            # Search for higher number\n",
    "                start = middle + 1\n",
    "\n",
    "\n",
    "    return triplets\n",
    "```\n"
   ]
  },
  {
   "cell_type": "code",
   "execution_count": 5,
   "metadata": {},
   "outputs": [],
   "source": [
    "def triangleNumber(nums):\n",
    "    triplets = 0\n",
    "    nums.sort()\n",
    "    for i in range(len(nums)-2):\n",
    "        if nums[i]!=0:\n",
    "            for j in range(i+1,len(nums)-1):\n",
    "                end = len(nums)-1\n",
    "                start = i + 2\n",
    "\n",
    "                while start <= end:\n",
    "                    mid = (start + end) // 2\n",
    "                    if nums[mid] >=(nums[i]+nums[j]):\n",
    "                        end = mid - 1\n",
    "                    else:\n",
    "                        start = mid + 1\n",
    "            triplets+=end-j\n",
    "            \n",
    "    return triplets"
   ]
  },
  {
   "cell_type": "code",
   "execution_count": 6,
   "metadata": {},
   "outputs": [
    {
     "name": "stdout",
     "output_type": "stream",
     "text": [
      "2\n"
     ]
    }
   ],
   "source": [
    "nums = [2,2,3,4]\n",
    "print(triangleNumber(nums))\n",
    "\n"
   ]
  },
  {
   "cell_type": "code",
   "execution_count": 7,
   "metadata": {},
   "outputs": [
    {
     "name": "stdout",
     "output_type": "stream",
     "text": [
      "2\n"
     ]
    }
   ],
   "source": [
    "nums = [4,2,3,4]\n",
    "print(triangleNumber(nums))"
   ]
  },
  {
   "cell_type": "markdown",
   "metadata": {},
   "source": [
    "## Problem 1 "
   ]
  },
  {
   "cell_type": "markdown",
   "metadata": {},
   "source": [
    "### Pseudocode\n",
    "Sort array. For each pair, count numbers in array while sum pair > number.\n",
    "\n",
    "```py\n",
    "def triangleNumber(nums):\n",
    "    triplets = 0\n",
    "    nums.sort()\n",
    "    # Loop for first number\n",
    "    for i in range(len(nums)-2):\n",
    "        # Loop for second number\n",
    "        for j in range(i+1,len(nums)-1):\n",
    "            k= i + 2\n",
    "            while nums[k] < (nums[i]+nums[j]) and k < len(nums)\n",
    "                k++\n",
    "            triplets += k-j-1\n",
    "            \n",
    "    return triplets\n",
    "\n",
    "\n",
    "\n",
    "```"
   ]
  },
  {
   "cell_type": "code",
   "execution_count": 8,
   "metadata": {},
   "outputs": [],
   "source": [
    "def triangleNumberCount(nums):\n",
    "    triplets = 0\n",
    "    nums.sort()\n",
    "    for i in range(len(nums)-2):\n",
    "        if nums[i]!=0:\n",
    "            for j in range(i+1,len(nums)-1):\n",
    "                k = i  + 2\n",
    "                while  k < len(nums) and nums[k] < (nums[i]+nums[j]) :\n",
    "                    k+=1\n",
    "                triplets += k-j-1\n",
    "            \n",
    "    return triplets"
   ]
  },
  {
   "cell_type": "code",
   "execution_count": 9,
   "metadata": {},
   "outputs": [
    {
     "name": "stdout",
     "output_type": "stream",
     "text": [
      "3\n"
     ]
    }
   ],
   "source": [
    "nums = [2,2,3,4]\n",
    "print(triangleNumberCount(nums))\n"
   ]
  },
  {
   "cell_type": "code",
   "execution_count": 10,
   "metadata": {},
   "outputs": [
    {
     "name": "stdout",
     "output_type": "stream",
     "text": [
      "4\n"
     ]
    }
   ],
   "source": [
    "nums = [4,2,3,4]\n",
    "print(triangleNumberCount(nums))"
   ]
  },
  {
   "cell_type": "markdown",
   "metadata": {},
   "source": [
    "## Problem 2"
   ]
  },
  {
   "cell_type": "markdown",
   "metadata": {},
   "source": [
    "### Pseudocode\n",
    "\n",
    "Use a dict to count the frequency of each element. If count value is greater than 1, add number to output list. \n",
    "\n",
    "```py\n",
    "def findDuplicates(nums)\n",
    "    freqs={}\n",
    "    output = []\n",
    "    # Loop through list\n",
    "    for num in nums\n",
    "        freqs[num] = freqs[num] + 1 if num in freqs else 1\n",
    "        ## Save number to output as soon as freq > 1\n",
    "        if freqs[num] > 1\n",
    "            output.append(num)\n",
    "    return output\n",
    "\n",
    "```"
   ]
  },
  {
   "cell_type": "code",
   "execution_count": 12,
   "metadata": {},
   "outputs": [],
   "source": [
    "def findDuplicates(nums):\n",
    "    freqs={}\n",
    "    output = []\n",
    "    for num in nums:\n",
    "        freqs[num] = freqs[num] + 1 if num in freqs else 1\n",
    "        if freqs[num] > 1:\n",
    "            output.append(num)\n",
    "    return output\n"
   ]
  },
  {
   "cell_type": "code",
   "execution_count": 13,
   "metadata": {},
   "outputs": [
    {
     "name": "stdout",
     "output_type": "stream",
     "text": [
      "[2, 3]\n"
     ]
    }
   ],
   "source": [
    "nums = [4,3,2,7,8,2,3,1]\n",
    "print(findDuplicates(nums))"
   ]
  },
  {
   "cell_type": "code",
   "execution_count": 14,
   "metadata": {},
   "outputs": [
    {
     "name": "stdout",
     "output_type": "stream",
     "text": [
      "[1]\n"
     ]
    }
   ],
   "source": [
    "nums = [1,1,2]\n",
    "print(findDuplicates(nums))"
   ]
  },
  {
   "cell_type": "code",
   "execution_count": 15,
   "metadata": {},
   "outputs": [
    {
     "name": "stdout",
     "output_type": "stream",
     "text": [
      "[]\n"
     ]
    }
   ],
   "source": [
    "nums = [1]\n",
    "print(findDuplicates(nums))"
   ]
  }
 ],
 "metadata": {
  "kernelspec": {
   "display_name": "Python 3.9.7 ('base')",
   "language": "python",
   "name": "python3"
  },
  "language_info": {
   "codemirror_mode": {
    "name": "ipython",
    "version": 3
   },
   "file_extension": ".py",
   "mimetype": "text/x-python",
   "name": "python",
   "nbconvert_exporter": "python",
   "pygments_lexer": "ipython3",
   "version": "3.9.7"
  },
  "orig_nbformat": 4,
  "vscode": {
   "interpreter": {
    "hash": "1517848735fd2dc728de6bbf3b0ee07e26aad548ec53b7417b94339d83ec0d81"
   }
  }
 },
 "nbformat": 4,
 "nbformat_minor": 2
}
