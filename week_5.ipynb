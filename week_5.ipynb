{
 "cells": [
  {
   "attachments": {},
   "cell_type": "markdown",
   "metadata": {},
   "source": [
    "# Week 5 - Vinh Peters"
   ]
  },
  {
   "cell_type": "code",
   "execution_count": 17,
   "metadata": {},
   "outputs": [],
   "source": [
    "class Graph:\n",
    "    def __init__(self):\n",
    "        self.adjList = {}\n",
    "\n",
    "    def addVertex(self,v):\n",
    "        if v not in self.adjList:\n",
    "            self.adjList[v] = []\n",
    "\n",
    "    def addEdge(self,v1,v2):\n",
    "        if v2 not in self.adjList[v1]:\n",
    "            self.adjList[v1].append(v2)\n",
    "        if v1 not in self.adjList[v2]:\n",
    "            self.adjList[v2].append(v1)\n",
    "\n",
    "    def removeEdge(self,v1,v2):\n",
    "        if v2 in self.adjList[v1]:\n",
    "            self.adjList[v1].remove(v2)\n",
    "        if v1 in self.adjList[v2]:\n",
    "            self.adjList[v2].remove(v1)\n",
    "\n",
    "    def removeVertex(self,v):\n",
    "        while len(self.adjList[v]):\n",
    "            adjVertex = self.adjList[v].pop()\n",
    "            self.removeEdge(v, adjVertex)\n",
    "\n",
    "        del self.adjList[v]\n",
    "\n",
    "    def dfsRecursive(self,start):\n",
    "        result = []\n",
    "        visited = {}\n",
    "        i = 0\n",
    "\n",
    "        adjList = self.adjList  \n",
    "\n",
    "        def dfs(vertex):\n",
    "            i=1+1\n",
    "            print(i)\n",
    "            print('vertex ',vertex)\n",
    "            if not vertex:\n",
    "                return None\n",
    "            visited[vertex] = True\n",
    "\n",
    "            result.append(vertex)\n",
    "            for neighbor in adjList[vertex]:\n",
    "                print('neighbor ', neighbor)\n",
    "                if not neighbor in visited:\n",
    "                    return dfs(neighbor)\n",
    "        dfs(start)\n",
    "        return result\n",
    "\n",
    "    \n"
   ]
  },
  {
   "cell_type": "code",
   "execution_count": 18,
   "metadata": {},
   "outputs": [],
   "source": [
    "g = Graph()\n",
    "g.addVertex(\"1\")\n",
    "g.addVertex(\"2\")\n",
    "g.addVertex(\"3\")\n",
    "g.addVertex(\"4\")\n",
    "g.addVertex(\"5\")\n",
    "g.addVertex(\"6\")\n",
    "g.addEdge(\"1\",\"2\")\n",
    "g.addEdge(\"1\",\"3\")\n",
    "g.addEdge(\"2\",\"4\")\n",
    "g.addEdge(\"3\",\"5\")\n",
    "g.addEdge(\"4\",\"5\")\n",
    "g.addEdge(\"4\",\"6\")\n",
    "g.addEdge(\"5\",\"6\")"
   ]
  },
  {
   "cell_type": "code",
   "execution_count": 19,
   "metadata": {},
   "outputs": [
    {
     "data": {
      "text/plain": [
       "{'1': ['2', '3'],\n",
       " '2': ['1', '4'],\n",
       " '3': ['1', '5'],\n",
       " '4': ['2', '5', '6'],\n",
       " '5': ['3', '4', '6'],\n",
       " '6': ['4', '5']}"
      ]
     },
     "execution_count": 19,
     "metadata": {},
     "output_type": "execute_result"
    }
   ],
   "source": [
    "g.adjList"
   ]
  },
  {
   "cell_type": "code",
   "execution_count": 20,
   "metadata": {},
   "outputs": [
    {
     "name": "stdout",
     "output_type": "stream",
     "text": [
      "2\n",
      "vertex  1\n",
      "neighbor  2\n",
      "2\n",
      "vertex  2\n",
      "neighbor  1\n",
      "neighbor  4\n",
      "2\n",
      "vertex  4\n",
      "neighbor  2\n",
      "neighbor  5\n",
      "2\n",
      "vertex  5\n",
      "neighbor  3\n",
      "2\n",
      "vertex  3\n",
      "neighbor  1\n",
      "neighbor  5\n",
      "['1', '2', '4', '5', '3']\n"
     ]
    }
   ],
   "source": [
    "print(g.dfsRecursive('1'))"
   ]
  }
 ],
 "metadata": {
  "kernelspec": {
   "display_name": "Python 3",
   "language": "python",
   "name": "python3"
  },
  "language_info": {
   "codemirror_mode": {
    "name": "ipython",
    "version": 3
   },
   "file_extension": ".py",
   "mimetype": "text/x-python",
   "name": "python",
   "nbconvert_exporter": "python",
   "pygments_lexer": "ipython3",
   "version": "3.9.4"
  },
  "orig_nbformat": 4,
  "vscode": {
   "interpreter": {
    "hash": "9fba6359b708aad04e261c3e83789d3be4296e1bd8c7a2f4dc6022df0c95516c"
   }
  }
 },
 "nbformat": 4,
 "nbformat_minor": 2
}
