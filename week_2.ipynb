{
 "cells": [
  {
   "cell_type": "code",
   "execution_count": 402,
   "metadata": {},
   "outputs": [],
   "source": [
    "class Node:\n",
    "    def __init__(self,value):\n",
    "        self.value = value\n",
    "        self.left = None\n",
    "        self.right = None\n",
    "    \n",
    "class BinarySearchTree:\n",
    "    def __init__(self):\n",
    "        self.root = None\n",
    "    \n",
    "    def insert(self,value):\n",
    "        newNode = Node(value)\n",
    "\n",
    "        if not self.root:\n",
    "            self.root = newNode\n",
    "            return self\n",
    "\n",
    "        curr = self.root\n",
    "\n",
    "        while True:\n",
    "            if value == curr.value:\n",
    "                return None\n",
    "\n",
    "            if value < curr.value:\n",
    "                if not curr.left:\n",
    "                    curr.left = newNode\n",
    "                    return self\n",
    "                curr = curr.left\n",
    "\n",
    "            else:\n",
    "                if not curr.right:\n",
    "                    curr.right = newNode\n",
    "                    return self\n",
    "                curr = curr.right\n",
    "    \n",
    "    def find(self,value):\n",
    "        if not self.root:\n",
    "            return False\n",
    "        \n",
    "        curr = self.root\n",
    "        found = False\n",
    "\n",
    "        while curr and not found:\n",
    "            if value < curr.value:\n",
    "                curr = curr.left\n",
    "            elif value > curr.value:\n",
    "                curr = curr.right\n",
    "            else:\n",
    "                found = True\n",
    "        if not found:\n",
    "            return None\n",
    "        return curr\n",
    "\n",
    "    def contains(self,value):\n",
    "        if not self.root:\n",
    "            return False\n",
    "\n",
    "        curr = self.root\n",
    "     \n",
    "\n",
    "        while curr:\n",
    "            if value < curr.value:\n",
    "                curr = curr.left\n",
    "            elif value > curr.value:\n",
    "                curr = curr.right\n",
    "            else:\n",
    "                return True\n",
    "\n",
    "        return False\n",
    "\n",
    "    def remove(self,value):\n",
    "        if not self.root:\n",
    "            return None\n",
    "        \n",
    "        parent = self.root\n",
    "        \n",
    "        while parent:\n",
    "            if value < parent.value:\n",
    "                child = parent.left\n",
    "                if child.value == value:\n",
    "                    parent.left = None\n",
    "                    return child\n",
    "\n",
    "            else:\n",
    "                child = parent.right\n",
    "                if child.value == value:\n",
    "                    parent.right = None\n",
    "                    return child\n",
    "\n",
    "            parent = child\n",
    "    \n",
    "    def countLeafsBFS(self,tree):\n",
    "        node = tree.root\n",
    "        data = []\n",
    "        queue = []\n",
    "\n",
    "        queue.append(node)\n",
    "\n",
    "        while len(queue):\n",
    "            node = queue.pop(0)\n",
    "            data.append(node)\n",
    "\n",
    "            if node.left:\n",
    "                queue.append(node.left)\n",
    "                leafs = []\n",
    "\n",
    "            if node.right:\n",
    "                queue.append(node.right)\n",
    "                leafs = [] \n",
    "\n",
    "            if not node.right and not node.left:\n",
    "                leafs.append(node)\n",
    "\n",
    "        return len(leafs)\n",
    "\n",
    "    def countLeafsDFS(self,tree):\n",
    "        nodeDict = {}\n",
    "        depth = 0\n",
    "\n",
    "        def traverse(node, depth):\n",
    "            if not depth in nodeDict:\n",
    "                nodeDict[depth] = []\n",
    "\n",
    "            nodeDict[depth] += [node.value]\n",
    "\n",
    "            if node.left:\n",
    "                traverse(node.left,depth+1)\n",
    "            if node.right:\n",
    "                traverse(node.right,depth+1)\n",
    "\n",
    "        \n",
    "                \n",
    "        traverse(tree.root, depth)\n",
    "        \n",
    "        return len(nodeDict[max(nodeDict.keys())])\n",
    "\n",
    "    def countOdds(self,tree):\n",
    "        data = []\n",
    "       \n",
    "        def traverse(node):\n",
    "            if node.left:\n",
    "                traverse(node.left)\n",
    "            if node.value % 2 != 0:\n",
    "                data.append(node.value)\n",
    "            if node.right:\n",
    "                traverse(node.right)    \n",
    "\n",
    "        traverse(tree.root)\n",
    "      \n",
    "        return (data, len(data))\n",
    "\n",
    "    def same(self,tree1,tree2):\n",
    "        node1 = tree1.root\n",
    "        node2 = tree2.root\n",
    "        data1 = []\n",
    "        queue1 = []\n",
    "        data2 = []\n",
    "        queue2 = []\n",
    "        \n",
    "        queue1.append(node1)\n",
    "        queue2.append(node2)\n",
    "\n",
    "        while queue1 or queue2:\n",
    "            \n",
    "            node1 = queue1.pop(0)\n",
    "            data1.append(node1)\n",
    "           \n",
    "            node2 = queue2.pop(0)\n",
    "            data2.append(node2)\n",
    "\n",
    "            if node1.value != node2.value:\n",
    "                return False\n",
    "            \n",
    "            if node1.left:\n",
    "                queue1.append(node1.left)\n",
    "\n",
    "            if node2.left: \n",
    "                queue2.append(node2.left)\n",
    "\n",
    "            if node1.right:\n",
    "                queue1.append(node1.right)\n",
    "\n",
    "            if node2.right: \n",
    "                queue2.append(node2.right)\n",
    "            \n",
    "            if len(queue1) != len(queue2):\n",
    "                return False\n",
    "            \n",
    "        return True"
   ]
  },
  {
   "cell_type": "code",
   "execution_count": 403,
   "metadata": {},
   "outputs": [
    {
     "data": {
      "text/plain": [
       "<__main__.BinarySearchTree at 0x1d6a1ae5df0>"
      ]
     },
     "execution_count": 403,
     "metadata": {},
     "output_type": "execute_result"
    }
   ],
   "source": [
    "tree = BinarySearchTree()\n",
    "tree.insert(8)\n",
    "tree.insert(3)\n",
    "tree.insert(1)\n",
    "tree.insert(6)\n",
    "tree.insert(4)\n",
    "tree.insert(7)\n",
    "tree.insert(10)\n",
    "tree.insert(14)\n",
    "tree.insert(13)\n"
   ]
  },
  {
   "cell_type": "code",
   "execution_count": 404,
   "metadata": {},
   "outputs": [
    {
     "data": {
      "text/plain": [
       "3"
      ]
     },
     "execution_count": 404,
     "metadata": {},
     "output_type": "execute_result"
    }
   ],
   "source": [
    "tree.countLeafsBFS(tree)\n"
   ]
  },
  {
   "cell_type": "code",
   "execution_count": 405,
   "metadata": {},
   "outputs": [
    {
     "data": {
      "text/plain": [
       "3"
      ]
     },
     "execution_count": 405,
     "metadata": {},
     "output_type": "execute_result"
    }
   ],
   "source": [
    "tree.countLeafsDFS(tree)"
   ]
  },
  {
   "cell_type": "code",
   "execution_count": 406,
   "metadata": {},
   "outputs": [
    {
     "name": "stdout",
     "output_type": "stream",
     "text": [
      "[1, 3, 7, 13]\n",
      "4\n"
     ]
    }
   ],
   "source": [
    "odds, count=tree.countOdds(tree)\n",
    "print(odds)\n",
    "print(count)"
   ]
  },
  {
   "cell_type": "code",
   "execution_count": 407,
   "metadata": {},
   "outputs": [
    {
     "data": {
      "text/plain": [
       "True"
      ]
     },
     "execution_count": 407,
     "metadata": {},
     "output_type": "execute_result"
    }
   ],
   "source": [
    "tree1 = BinarySearchTree()\n",
    "tree2 = BinarySearchTree()\n",
    "tree1.insert(8)\n",
    "tree1.insert(3)\n",
    "tree1.insert(1)\n",
    "tree1.insert(2)\n",
    "\n",
    "tree2.insert(8)\n",
    "tree2.insert(3)\n",
    "tree2.insert(1)\n",
    "tree2.insert(2)\n",
    "\n",
    "tree1.same(tree1, tree2)"
   ]
  },
  {
   "cell_type": "code",
   "execution_count": 408,
   "metadata": {},
   "outputs": [
    {
     "data": {
      "text/plain": [
       "False"
      ]
     },
     "execution_count": 408,
     "metadata": {},
     "output_type": "execute_result"
    }
   ],
   "source": [
    "tree1 = BinarySearchTree()\n",
    "tree2 = BinarySearchTree()\n",
    "tree1.insert(8)\n",
    "tree1.insert(3)\n",
    "tree1.insert(1)\n",
    "tree1.insert(2)\n",
    "\n",
    "tree2.insert(8)\n",
    "tree2.insert(3)\n",
    "tree2.insert(2)\n",
    "\n",
    "tree1.same(tree1, tree2)"
   ]
  },
  {
   "cell_type": "code",
   "execution_count": 409,
   "metadata": {},
   "outputs": [
    {
     "data": {
      "text/plain": [
       "False"
      ]
     },
     "execution_count": 409,
     "metadata": {},
     "output_type": "execute_result"
    }
   ],
   "source": [
    "tree1 = BinarySearchTree()\n",
    "tree2 = BinarySearchTree()\n",
    "tree1.insert(8)\n",
    "tree1.insert(3)\n",
    "tree1.insert(1)\n",
    "tree1.insert(2)\n",
    "\n",
    "tree2.insert(8)\n",
    "tree2.insert(3)\n",
    "tree2.insert(1)\n",
    "tree2.insert(4)\n",
    "\n",
    "tree1.same(tree1, tree2)"
   ]
  }
 ],
 "metadata": {
  "kernelspec": {
   "display_name": "Python 3",
   "language": "python",
   "name": "python3"
  },
  "language_info": {
   "codemirror_mode": {
    "name": "ipython",
    "version": 3
   },
   "file_extension": ".py",
   "mimetype": "text/x-python",
   "name": "python",
   "nbconvert_exporter": "python",
   "pygments_lexer": "ipython3",
   "version": "3.9.4"
  },
  "orig_nbformat": 4,
  "vscode": {
   "interpreter": {
    "hash": "9fba6359b708aad04e261c3e83789d3be4296e1bd8c7a2f4dc6022df0c95516c"
   }
  }
 },
 "nbformat": 4,
 "nbformat_minor": 2
}
