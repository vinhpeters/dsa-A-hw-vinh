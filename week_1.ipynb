{
 "cells": [
  {
   "cell_type": "markdown",
   "metadata": {},
   "source": [
    "# Week 1 Assignment - Vinh Peters"
   ]
  },
  {
   "attachments": {},
   "cell_type": "markdown",
   "metadata": {
    "tags": []
   },
   "source": [
    "## Queues"
   ]
  },
  {
   "attachments": {},
   "cell_type": "markdown",
   "metadata": {},
   "source": [
    "![Alt text](queue.png)"
   ]
  },
  {
   "cell_type": "code",
   "execution_count": 343,
   "metadata": {},
   "outputs": [
    {
     "name": "stdout",
     "output_type": "stream",
     "text": [
      "1\n",
      "None\n"
     ]
    }
   ],
   "source": [
    "class Node:\n",
    "    def __init__(self,value):\n",
    "        self.value = value\n",
    "        self.next = None\n",
    "\n",
    "node1=Node(1)\n",
    "node2=Node(2)\n",
    "node3=Node(3)\n",
    "\n",
    "\n",
    "print(node1.value)\n",
    "print(node1.next)   \n",
    "     "
   ]
  },
  {
   "cell_type": "code",
   "execution_count": 344,
   "metadata": {},
   "outputs": [],
   "source": [
    "class Queue:\n",
    "    def __init__(self):\n",
    "        self.first=None\n",
    "        self.last=None\n",
    "        self.size=0\n",
    "        \n",
    "    def enqueue(self,val):\n",
    "        newNode = Node(val)\n",
    "        if not self.first:\n",
    "            self.first=newNode\n",
    "            self.last = newNode\n",
    "        else: \n",
    "            self.last.next=newNode\n",
    "            self.last = newNode\n",
    "\n",
    "        self.size+=1 \n",
    "        return self\n",
    "    \n",
    "    def dequeue(self):\n",
    "        if not self.first:\n",
    "            return None\n",
    "        temp = self.first\n",
    "        if self.size == 1:\n",
    "            self.last = None\n",
    "        self.first = self.first.next\n",
    "        self.size-=1\n",
    "        return temp.value\n",
    "\n",
    "    def peek(self):\n",
    "        if not self.first:\n",
    "            return None\n",
    "        return self.first.value\n",
    "\n",
    "    def isEmpty(self):\n",
    "        if not self.first:\n",
    "            return True\n",
    "        return False\n",
    "    \n",
    "    def printQueue(self):\n",
    "        curr= self.first\n",
    "        nodes=[]\n",
    "        while curr:\n",
    "            nodes.append(curr.value)\n",
    "            curr=curr.next\n",
    "        print(f'Queue: {str(nodes)[1:-1]}') "
   ]
  },
  {
   "cell_type": "code",
   "execution_count": 345,
   "metadata": {},
   "outputs": [
    {
     "name": "stdout",
     "output_type": "stream",
     "text": [
      "Queue: 1, 2, 3\n",
      "False\n",
      "Size=3\n",
      "1\n",
      "2\n",
      "3\n",
      "None\n",
      "Queue: \n",
      "True\n",
      "Size=0\n"
     ]
    }
   ],
   "source": [
    "q = Queue()\n",
    "\n",
    "q.enqueue(1)\n",
    "q.enqueue(2)\n",
    "q.enqueue(3)\n",
    "q.printQueue()\n",
    "print(q.isEmpty())\n",
    "print(f'Size={q.size}')\n",
    "\n",
    "print(q.dequeue())\n",
    "print(q.dequeue())\n",
    "print(q.dequeue())\n",
    "print(q.dequeue())\n",
    "q.printQueue()\n",
    "print(q.isEmpty())\n",
    "print(f'Size={q.size}')"
   ]
  },
  {
   "attachments": {},
   "cell_type": "markdown",
   "metadata": {},
   "source": [
    "## Stacks"
   ]
  },
  {
   "attachments": {},
   "cell_type": "markdown",
   "metadata": {},
   "source": [
    "![Alt text](stack.png)"
   ]
  },
  {
   "cell_type": "code",
   "execution_count": 346,
   "metadata": {},
   "outputs": [],
   "source": [
    "class Stack:\n",
    "    def __init__(self):\n",
    "        self.first =None\n",
    "        self.last = None\n",
    "        self.size = 0\n",
    "\n",
    "    def push(self,value):\n",
    "        newNode = Node(value)\n",
    "        if not self.first:\n",
    "            self.first=newNode\n",
    "            self.last=newNode\n",
    "        else:\n",
    "            temp = self.first\n",
    "            self.first=newNode\n",
    "            self.first.next = temp\n",
    "        self.size+=1\n",
    "        return self\n",
    "    \n",
    "    def pop(self):\n",
    "        if not self.first:\n",
    "            return None\n",
    "        temp = self.first\n",
    "        if self.size == 1:\n",
    "            self.last = None\n",
    "        self.first = self.first.next\n",
    "        self.size-=1\n",
    "        return temp.value\n",
    "\n",
    "    def peek(self):\n",
    "        if not self.first:\n",
    "            return None\n",
    "        return self.first.value\n",
    "\n",
    "    def isEmpty(self):\n",
    "        if not self.first:\n",
    "            return True\n",
    "        return False\n",
    "    \n",
    "    def printStack(self):\n",
    "        curr= self.first\n",
    "        nodes=[]\n",
    "        while curr:\n",
    "            nodes.append(curr.value)\n",
    "            curr=curr.next\n",
    "        print(f'Stack: {str(nodes)[1:-1]}') \n"
   ]
  },
  {
   "cell_type": "code",
   "execution_count": 347,
   "metadata": {},
   "outputs": [
    {
     "name": "stdout",
     "output_type": "stream",
     "text": [
      "Stack: 3, 2, 1\n",
      "False\n",
      "Size=3\n",
      "3\n",
      "2\n",
      "1\n",
      "Stack: \n",
      "True\n",
      "Size=0\n"
     ]
    }
   ],
   "source": [
    "stack = Stack()\n",
    "\n",
    "stack.push(1)\n",
    "stack.push(2)\n",
    "stack.push(3)\n",
    "\n",
    "stack.printStack()\n",
    "print(stack.isEmpty())\n",
    "print(f'Size={stack.size}')\n",
    "\n",
    "print(stack.pop())\n",
    "print(stack.pop())\n",
    "print(stack.pop())\n",
    "\n",
    "stack.printStack()\n",
    "print(stack.isEmpty())\n",
    "print(f'Size={stack.size}')"
   ]
  },
  {
   "attachments": {},
   "cell_type": "markdown",
   "metadata": {},
   "source": [
    "## Challenge 4: Valid Parenthesis\n"
   ]
  },
  {
   "attachments": {},
   "cell_type": "markdown",
   "metadata": {},
   "source": [
    "### Pseudocode  \n",
    "Iterate through the string, if the character is an opening character add it to a stack. If the character is closing character, the corresponding opening character should be the first in the stack."
   ]
  },
  {
   "cell_type": "code",
   "execution_count": 348,
   "metadata": {},
   "outputs": [],
   "source": [
    "def isValid(s):\n",
    "    sequence = Stack()\n",
    "    for char in s:\n",
    "        if char in ['(', '{', '[']:\n",
    "            sequence.push(char)\n",
    "        else:\n",
    "            if not sequence.first:\n",
    "                return False\n",
    "\n",
    "            left=sequence.pop()\n",
    "\n",
    "            if left== '(':\n",
    "                if char != \")\":\n",
    "                    return False\n",
    "            if left == '{':\n",
    "                if char != \"}\":\n",
    "                    return False\n",
    "            if left == '[':\n",
    "                if char != \"]\":\n",
    "                    return False\n",
    "                    \n",
    "    return True\n"
   ]
  },
  {
   "cell_type": "code",
   "execution_count": 349,
   "metadata": {},
   "outputs": [
    {
     "name": "stdout",
     "output_type": "stream",
     "text": [
      "True\n",
      "True\n",
      "False\n",
      "True\n",
      "False\n"
     ]
    }
   ],
   "source": [
    "s = \"()\"\n",
    "print(isValid(s))\n",
    "\n",
    "s = \"()[]{}\"\n",
    "print(isValid(s))\n",
    "\n",
    "s = \"(]\"\n",
    "print(isValid(s))\n",
    "\n",
    "s ='[{(()())}()]'\n",
    "print(isValid(s))\n",
    "\n",
    "s = \"(]{}({)({}{]\"\n",
    "print(isValid(s))\n"
   ]
  },
  {
   "attachments": {},
   "cell_type": "markdown",
   "metadata": {},
   "source": [
    "## Binary Search Trees"
   ]
  },
  {
   "attachments": {},
   "cell_type": "markdown",
   "metadata": {},
   "source": [
    "Tree 1:\n",
    "Binary Tree\n",
    "\n",
    "It is a valid\n",
    "Tree 1:\n",
    "Binary  Tree\n",
    "\n",
    "It is a binary tree with ordered child nodes. Each child node left of the parent is less than the parent, and each child to the right of the parent is greater than the parent\n",
    "\n",
    "\n"
   ]
  }
 ],
 "metadata": {
  "kernelspec": {
   "display_name": "Python 3",
   "language": "python",
   "name": "python3"
  },
  "language_info": {
   "codemirror_mode": {
    "name": "ipython",
    "version": 3
   },
   "file_extension": ".py",
   "mimetype": "text/x-python",
   "name": "python",
   "nbconvert_exporter": "python",
   "pygments_lexer": "ipython3",
   "version": "3.9.4"
  },
  "vscode": {
   "interpreter": {
    "hash": "9fba6359b708aad04e261c3e83789d3be4296e1bd8c7a2f4dc6022df0c95516c"
   }
  }
 },
 "nbformat": 4,
 "nbformat_minor": 4
}
