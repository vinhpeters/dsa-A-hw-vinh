{
 "cells": [
  {
   "cell_type": "markdown",
   "metadata": {},
   "source": [
    "# Week 1 Assignment - Vinh Peters"
   ]
  },
  {
   "attachments": {},
   "cell_type": "markdown",
   "metadata": {
    "tags": []
   },
   "source": [
    "## Queues"
   ]
  },
  {
   "attachments": {},
   "cell_type": "markdown",
   "metadata": {},
   "source": [
    "![Alt text](queue.png)"
   ]
  },
  {
   "cell_type": "code",
   "execution_count": 402,
   "metadata": {},
   "outputs": [
    {
     "name": "stdout",
     "output_type": "stream",
     "text": [
      "1\n",
      "None\n"
     ]
    }
   ],
   "source": [
    "class Node:\n",
    "    def __init__(self,value):\n",
    "        self.value = value\n",
    "        self.next = None\n",
    "\n",
    "node1=Node(1)\n",
    "node2=Node(2)\n",
    "node3=Node(3)\n",
    "\n",
    "\n",
    "print(node1.value)\n",
    "print(node1.next)   \n",
    "     "
   ]
  },
  {
   "cell_type": "code",
   "execution_count": 403,
   "metadata": {},
   "outputs": [],
   "source": [
    "class Queue:\n",
    "    def __init__(self):\n",
    "        self.first=None\n",
    "        self.last=None\n",
    "        self.size=0\n",
    "        \n",
    "    def enqueue(self,val):\n",
    "        newNode = Node(val)\n",
    "        if not self.first:\n",
    "            self.first=newNode\n",
    "            self.last = newNode\n",
    "        else: \n",
    "            self.last.next=newNode\n",
    "            self.last = newNode\n",
    "\n",
    "        self.size+=1 \n",
    "        return self\n",
    "    \n",
    "    def dequeue(self):\n",
    "        if not self.first:\n",
    "            return None\n",
    "        temp = self.first\n",
    "        if self.size == 1:\n",
    "            self.last = None\n",
    "        self.first = self.first.next\n",
    "        self.size-=1\n",
    "        return temp.value\n",
    "\n",
    "    def peek(self):\n",
    "        if not self.first:\n",
    "            return None\n",
    "        return self.first.value\n",
    "\n",
    "    def isEmpty(self):\n",
    "        if not self.first:\n",
    "            return True\n",
    "        return False\n",
    "    \n",
    "    def printQueue(self):\n",
    "        curr= self.first\n",
    "        nodes=[]\n",
    "        while curr:\n",
    "            nodes.append(curr.value)\n",
    "            curr=curr.next\n",
    "        print(f'Queue: {str(nodes)[1:-1]}') "
   ]
  },
  {
   "cell_type": "code",
   "execution_count": 404,
   "metadata": {},
   "outputs": [
    {
     "name": "stdout",
     "output_type": "stream",
     "text": [
      "Queue: 1, 2, 3\n",
      "False\n",
      "Size=3\n",
      "1\n",
      "2\n",
      "3\n",
      "None\n",
      "Queue: \n",
      "True\n",
      "Size=0\n"
     ]
    }
   ],
   "source": [
    "q = Queue()\n",
    "\n",
    "q.enqueue(1)\n",
    "q.enqueue(2)\n",
    "q.enqueue(3)\n",
    "q.printQueue()\n",
    "print(q.isEmpty())\n",
    "print(f'Size={q.size}')\n",
    "\n",
    "print(q.dequeue())\n",
    "print(q.dequeue())\n",
    "print(q.dequeue())\n",
    "print(q.dequeue())\n",
    "q.printQueue()\n",
    "print(q.isEmpty())\n",
    "print(f'Size={q.size}')"
   ]
  },
  {
   "attachments": {},
   "cell_type": "markdown",
   "metadata": {},
   "source": [
    "## Stacks"
   ]
  },
  {
   "attachments": {},
   "cell_type": "markdown",
   "metadata": {},
   "source": [
    "![Alt text](stack.png)"
   ]
  },
  {
   "cell_type": "code",
   "execution_count": 405,
   "metadata": {},
   "outputs": [],
   "source": [
    "class Stack:\n",
    "    def __init__(self):\n",
    "        self.first =None\n",
    "        self.last = None\n",
    "        self.size = 0\n",
    "\n",
    "    def push(self,value):\n",
    "        newNode = Node(value)\n",
    "        if not self.first:\n",
    "            self.first=newNode\n",
    "            self.last=newNode\n",
    "        else:\n",
    "            temp = self.first\n",
    "            self.first=newNode\n",
    "            self.first.next = temp\n",
    "        self.size+=1\n",
    "        return self\n",
    "    \n",
    "    def pop(self):\n",
    "        if not self.first:\n",
    "            return None\n",
    "        temp = self.first\n",
    "        if self.size == 1:\n",
    "            self.last = None\n",
    "        self.first = self.first.next\n",
    "        self.size-=1\n",
    "        return temp.value\n",
    "\n",
    "    def peek(self):\n",
    "        if not self.first:\n",
    "            return None\n",
    "        return self.first.value\n",
    "\n",
    "    def isEmpty(self):\n",
    "        if not self.first:\n",
    "            return True\n",
    "        return False\n",
    "    \n",
    "    def printStack(self):\n",
    "        curr= self.first\n",
    "        nodes=[]\n",
    "        while curr:\n",
    "            nodes.append(curr.value)\n",
    "            curr=curr.next\n",
    "        print(f'Stack: {str(nodes)[1:-1]}') \n"
   ]
  },
  {
   "cell_type": "code",
   "execution_count": 406,
   "metadata": {},
   "outputs": [
    {
     "name": "stdout",
     "output_type": "stream",
     "text": [
      "Stack: 3, 2, 1\n",
      "False\n",
      "Size=3\n",
      "3\n",
      "2\n",
      "1\n",
      "Stack: \n",
      "True\n",
      "Size=0\n"
     ]
    }
   ],
   "source": [
    "stack = Stack()\n",
    "\n",
    "stack.push(1)\n",
    "stack.push(2)\n",
    "stack.push(3)\n",
    "\n",
    "stack.printStack()\n",
    "print(stack.isEmpty())\n",
    "print(f'Size={stack.size}')\n",
    "\n",
    "print(stack.pop())\n",
    "print(stack.pop())\n",
    "print(stack.pop())\n",
    "\n",
    "stack.printStack()\n",
    "print(stack.isEmpty())\n",
    "print(f'Size={stack.size}')"
   ]
  },
  {
   "attachments": {},
   "cell_type": "markdown",
   "metadata": {},
   "source": [
    "## Challenge 4: Valid Parenthesis\n"
   ]
  },
  {
   "attachments": {},
   "cell_type": "markdown",
   "metadata": {},
   "source": [
    "### Pseudocode  \n",
    "Iterate through the string, if the character is an opening character add it to a stack. If the character is closing character, the corresponding opening character should be the first in the stack."
   ]
  },
  {
   "cell_type": "code",
   "execution_count": 407,
   "metadata": {},
   "outputs": [],
   "source": [
    "def isValid(s):\n",
    "    sequence = Stack()\n",
    "    for char in s:\n",
    "        if char in ['(', '{', '[']:\n",
    "            sequence.push(char)\n",
    "        else:\n",
    "            if not sequence.first:\n",
    "                return False\n",
    "\n",
    "            left=sequence.pop()\n",
    "\n",
    "            if left== '(':\n",
    "                if char != \")\":\n",
    "                    return False\n",
    "            if left == '{':\n",
    "                if char != \"}\":\n",
    "                    return False\n",
    "            if left == '[':\n",
    "                if char != \"]\":\n",
    "                    return False\n",
    "                    \n",
    "    return True\n"
   ]
  },
  {
   "cell_type": "code",
   "execution_count": 408,
   "metadata": {},
   "outputs": [
    {
     "name": "stdout",
     "output_type": "stream",
     "text": [
      "True\n",
      "True\n",
      "False\n",
      "True\n",
      "False\n"
     ]
    }
   ],
   "source": [
    "s = \"()\"\n",
    "print(isValid(s))\n",
    "\n",
    "s = \"()[]{}\"\n",
    "print(isValid(s))\n",
    "\n",
    "s = \"(]\"\n",
    "print(isValid(s))\n",
    "\n",
    "s ='[{(()())}()]'\n",
    "print(isValid(s))\n",
    "\n",
    "s = \"(]{}({)({}{]\"\n",
    "print(isValid(s))\n"
   ]
  },
  {
   "attachments": {},
   "cell_type": "markdown",
   "metadata": {},
   "source": [
    "## Binary Search Trees"
   ]
  },
  {
   "attachments": {},
   "cell_type": "markdown",
   "metadata": {},
   "source": [
    "**Tree 1:\n",
    "Binary Tree**\n",
    "\n",
    "A valid tree where each node has at most two child nodes. The child nodes are not ordered relative to the parent.\n",
    "\n",
    "**Tree 2:\n",
    "Binary  Tree**\n",
    "\n",
    "A valid tree where each node has at most two child nodes. The child nodes are not ordered relative to the parent\n",
    "\n",
    "**Tree 3:\n",
    "Tree**\n",
    "\n",
    "The tree has one root node, but parent nodes have more than two child nodes, so it is not a binary tree.\n",
    "\n",
    "**Tree 4:\n",
    "Binary Search Tree**\n",
    "\n",
    "A valid tree where each node has at most two child nodes. The child nodes are ordered relative to the parent.\n",
    "\n",
    "**Tree 5:\n",
    "None**\n",
    "\n",
    "A valid tree cannot have nodes with more than one parent.\n",
    "\n",
    "**Tree 6:\n",
    "None**\n",
    "\n",
    "A valid tree cannot have more than one node without a parent. There must be only one root node.\n"
   ]
  },
  {
   "cell_type": "code",
   "execution_count": 409,
   "metadata": {},
   "outputs": [],
   "source": [
    "class Node:\n",
    "    def __init__(self,value):\n",
    "        self.value = value\n",
    "        self.left = None\n",
    "        self.right = None\n",
    "    \n",
    "class BinarySearchTree:\n",
    "    def __init__(self):\n",
    "        self.root = None\n",
    "    \n",
    "    def insert(self,value):\n",
    "        newNode = Node(value)\n",
    "\n",
    "        if not self.root:\n",
    "            self.root = newNode\n",
    "            return self\n",
    "\n",
    "        curr = self.root\n",
    "\n",
    "        while True:\n",
    "            if value == curr.value:\n",
    "                return None\n",
    "\n",
    "            if value < curr.value:\n",
    "                if not curr.left:\n",
    "                    curr.left = newNode\n",
    "                    return self\n",
    "                curr = curr.left\n",
    "\n",
    "            else:\n",
    "                if not curr.right:\n",
    "                    curr.right = newNode\n",
    "                    return self\n",
    "                curr = curr.right\n",
    "    \n",
    "    def find(self,value):\n",
    "        if not self.root:\n",
    "            return False\n",
    "        \n",
    "        curr = self.root\n",
    "        found = False\n",
    "\n",
    "        while curr and not found:\n",
    "            if value < curr.value:\n",
    "                curr = curr.left\n",
    "            elif value > curr.value:\n",
    "                curr = curr.right\n",
    "            else:\n",
    "                found = True\n",
    "        if not found:\n",
    "            return None\n",
    "        return curr\n",
    "\n",
    "    def contains(self,value):\n",
    "        if not self.root:\n",
    "            return False\n",
    "\n",
    "        curr = self.root\n",
    "     \n",
    "\n",
    "        while curr:\n",
    "            if value < curr.value:\n",
    "                curr = curr.left\n",
    "            elif value > curr.value:\n",
    "                curr = curr.right\n",
    "            else:\n",
    "                return True\n",
    "\n",
    "        return False\n",
    "\n",
    "    def remove(self,value):\n",
    "        if not self.root:\n",
    "            return None\n",
    "        \n",
    "        parent = self.root\n",
    "        \n",
    "        while parent:\n",
    "            if value < parent.value:\n",
    "                child = parent.left\n",
    "                if child.value == value:\n",
    "                    parent.left = None\n",
    "                    return child\n",
    "\n",
    "            else:\n",
    "                child = parent.right\n",
    "                if child.value == value:\n",
    "                    parent.right = None\n",
    "                    return child\n",
    "\n",
    "            parent = child\n"
   ]
  },
  {
   "cell_type": "code",
   "execution_count": 410,
   "metadata": {},
   "outputs": [
    {
     "name": "stdout",
     "output_type": "stream",
     "text": [
      "8\n",
      "True\n",
      "6\n",
      "False\n",
      "False\n",
      "False\n"
     ]
    }
   ],
   "source": [
    "bst= BinarySearchTree()\n",
    "\n",
    "bst.insert(10)\n",
    "bst.insert(6)\n",
    "bst.insert(15)\n",
    "bst.insert(3)\n",
    "bst.insert(8)\n",
    "bst.insert(20)\n",
    "\n",
    "print(bst.find(8).value)\n",
    "print(bst.contains(20))\n",
    "\n",
    "print(bst.remove(6).value)\n",
    "print(bst.contains(6))\n",
    "print(bst.contains(3))\n",
    "print(bst.contains(8))"
   ]
  }
 ],
 "metadata": {
  "kernelspec": {
   "display_name": "Python 3",
   "language": "python",
   "name": "python3"
  },
  "language_info": {
   "codemirror_mode": {
    "name": "ipython",
    "version": 3
   },
   "file_extension": ".py",
   "mimetype": "text/x-python",
   "name": "python",
   "nbconvert_exporter": "python",
   "pygments_lexer": "ipython3",
   "version": "3.9.4"
  },
  "vscode": {
   "interpreter": {
    "hash": "9fba6359b708aad04e261c3e83789d3be4296e1bd8c7a2f4dc6022df0c95516c"
   }
  }
 },
 "nbformat": 4,
 "nbformat_minor": 4
}
