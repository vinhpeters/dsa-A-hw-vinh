{
 "cells": [
  {
   "cell_type": "markdown",
   "metadata": {},
   "source": [
    "Write a function called subsequence which takes in two strings and checks whether\n",
    "the characters in the first string form a subsequence of the characters in the second string.\n",
    "In other words, the function should check whether the characters in the first string\n",
    "appear somewhere in the second string, without their order changing.\n",
    "Write your solution with time complexity O(n) and space O(1)\n"
   ]
  },
  {
   "cell_type": "code",
   "execution_count": 6,
   "metadata": {},
   "outputs": [],
   "source": [
    "def subsequence(str1, str2):\n",
    "    i = 0\n",
    "    for ltr in str2:\n",
    "        if str1[i] == ltr:\n",
    "            i += 1\n",
    "            if i == len(str1):\n",
    "                return True\n",
    "    return False\n"
   ]
  },
  {
   "cell_type": "code",
   "execution_count": 8,
   "metadata": {},
   "outputs": [
    {
     "name": "stdout",
     "output_type": "stream",
     "text": [
      "True\n",
      "True\n",
      "True\n",
      "False\n"
     ]
    }
   ],
   "source": [
    "print(subsequence('hello', 'hello world'))\n",
    "print(subsequence('sing', 'sting'))\n",
    "print(subsequence('abc', 'abracadabra'))\n",
    "print(subsequence('abc', 'acb'))\n"
   ]
  }
 ],
 "metadata": {
  "kernelspec": {
   "display_name": "Python 3.9.4 64-bit",
   "language": "python",
   "name": "python3"
  },
  "language_info": {
   "codemirror_mode": {
    "name": "ipython",
    "version": 3
   },
   "file_extension": ".py",
   "mimetype": "text/x-python",
   "name": "python",
   "nbconvert_exporter": "python",
   "pygments_lexer": "ipython3",
   "version": "3.9.4"
  },
  "orig_nbformat": 4,
  "vscode": {
   "interpreter": {
    "hash": "9fba6359b708aad04e261c3e83789d3be4296e1bd8c7a2f4dc6022df0c95516c"
   }
  }
 },
 "nbformat": 4,
 "nbformat_minor": 2
}
