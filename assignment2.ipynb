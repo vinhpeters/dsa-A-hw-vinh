{
 "cells": [
  {
   "cell_type": "markdown",
   "metadata": {},
   "source": [
    "## Problem #1: Multiple Pointers Pattern\n",
    "Write a function called subsequence which takes in two strings and checks whether\n",
    "the characters in the first string form a subsequence of the characters in the second string.\n",
    "In other words, the function should check whether the characters in the first string\n",
    "appear somewhere in the second string, without their order changing.\n",
    "Write your solution with time complexity O(n) and space O(1)\n"
   ]
  },
  {
   "cell_type": "markdown",
   "metadata": {},
   "source": [
    "### Pseudocode\n",
    "\n",
    "Use two pointers, i & j, one for each string. i only progresses when match is found in second string.  \n",
    "If i reaches the end of str1, return true, if j reaches the end of str2, return false.  \n",
    "\n",
    "```py\n",
    "def subsequence(str1,str2)\n",
    "    i,j = 0\n",
    "    while i<len(str1) & j<len(str2)\n",
    "        if str1[i] == str2[j]\n",
    "            i++\n",
    "        if i==len(str1)\n",
    "            return True\n",
    "        j++\n",
    "    return False\n",
    "    \n",
    "```\n",
    "\n"
   ]
  },
  {
   "cell_type": "code",
   "execution_count": 47,
   "metadata": {},
   "outputs": [],
   "source": [
    "def subsequence(str1, str2):\n",
    "  i, j = 0, 0\n",
    "  while i < len(str1) and j < len(str2):\n",
    "    if str1[i] == str2[j]:\n",
    "        i += 1\n",
    "    if i == len(str1):\n",
    "      return True\n",
    "    j+=1\n",
    "  return False\n"
   ]
  },
  {
   "cell_type": "code",
   "execution_count": 48,
   "metadata": {},
   "outputs": [
    {
     "name": "stdout",
     "output_type": "stream",
     "text": [
      "True\n",
      "True\n",
      "True\n",
      "False\n",
      "True\n"
     ]
    }
   ],
   "source": [
    "# Test cases\n",
    "print(subsequence('hello', 'hello world'))\n",
    "print(subsequence('sing', 'sting'))\n",
    "print(subsequence('abc', 'abracadabra'))\n",
    "print(subsequence('abc', 'acb'))\n",
    "print(subsequence(\"abc\", \"ahbgdc\"))\n"
   ]
  },
  {
   "cell_type": "markdown",
   "metadata": {},
   "source": [
    "## Problem #2: Sliding Window Pattern  \n",
    "Write a function called longestSubstringInString, which accepts a string and\n",
    "returns the length of the longest substring with all distinct characters from the START of the\n",
    "string.  \n",
    "Please write in time complexity of O(n)\n"
   ]
  },
  {
   "cell_type": "markdown",
   "metadata": {},
   "source": [
    "### Pseudocode\n",
    "\n",
    "Use sliding window starting at beginning of the string. Expand window and check if new character is already in the window. If character is already in the window, break and return length of window.\n",
    "\n",
    "```py\n",
    "def longestSubstringInString(str)\n",
    "    # Initialize empty list for window\n",
    "    window=[]\n",
    "    for char in str\n",
    "        if char in window\n",
    "            return len(window)\n",
    "        # Else, add char to window\n",
    "        window.append(char)\n",
    "```"
   ]
  },
  {
   "cell_type": "code",
   "execution_count": 49,
   "metadata": {},
   "outputs": [],
   "source": [
    "def longestSubstringInString(str):\n",
    "    window=[]\n",
    "    if len(str) == 0:\n",
    "        return 0\n",
    "    for char in str:\n",
    "        if char in window:\n",
    "            return len(window)\n",
    "        window.append(char)\n"
   ]
  },
  {
   "cell_type": "code",
   "execution_count": 50,
   "metadata": {},
   "outputs": [
    {
     "name": "stdout",
     "output_type": "stream",
     "text": [
      "0\n",
      "7\n",
      "4\n",
      "5\n",
      "1\n",
      "7\n",
      "4\n"
     ]
    }
   ],
   "source": [
    "print(longestSubstringInString('')) #0\n",
    "print(longestSubstringInString('rithmschool')) #7 because of ‘rithmsc’\n",
    "print(longestSubstringInString('thisisawesome')) #4 because of ‘this’\n",
    "print(longestSubstringInString('thecatinthehat')) #5 because of ‘theca’\n",
    "print(longestSubstringInString('bbbbbb')) #1 because of ‘b’\n",
    "print(longestSubstringInString('longestsubstring')) #7 because of ‘longest’\n",
    "print(longestSubstringInString('thisishowwedoit')) #4 because of ‘this’"
   ]
  },
  {
   "cell_type": "markdown",
   "metadata": {},
   "source": [
    "## Problem #2 Bonus"
   ]
  },
  {
   "cell_type": "markdown",
   "metadata": {},
   "source": [
    "### Pseudocode\n",
    "\n",
    "Use sliding window starting at beginning of the string. Expand window and check if new character is already in the window. If character is already in the window, remove repeated character and preceding characters from the window.\n",
    "\n",
    "```py\n",
    "def longestSubstringInString(str)\n",
    "    # Initialize empty list for window\n",
    "    window=[]\n",
    "    # Initialize initial max length to 0\n",
    "    maxLen = 0\n",
    "    for char in str\n",
    "        if char in window\n",
    "            # Remove repeated char and preceding chars\n",
    "            window = window[window.index(char)+1 :]\n",
    "        # Else, add char to window\n",
    "        window.append(char)\n",
    "        # Compare window length to running max\n",
    "        maxLen = max(maxLen, len(window))\n",
    "    return maxLen\n",
    "```"
   ]
  },
  {
   "cell_type": "code",
   "execution_count": 51,
   "metadata": {},
   "outputs": [],
   "source": [
    "def longestSubstringInString(str):\n",
    "    window=[]\n",
    "    maxLen = 0\n",
    "    for char in str:\n",
    "        if char in window:\n",
    "            window = window[window.index(char)+1 :]\n",
    "        window.append(char)\n",
    "        maxLen = max(maxLen, len(window))\n",
    "    return maxLen\n"
   ]
  },
  {
   "cell_type": "code",
   "execution_count": 52,
   "metadata": {},
   "outputs": [
    {
     "name": "stdout",
     "output_type": "stream",
     "text": [
      "0\n",
      "7\n",
      "6\n",
      "7\n",
      "1\n",
      "8\n",
      "6\n",
      "8\n"
     ]
    }
   ],
   "source": [
    "print(longestSubstringInString('')) \n",
    "print(longestSubstringInString('rithmschool')) \n",
    "print(longestSubstringInString('thisisawesome'))\n",
    "print(longestSubstringInString('thecatinthehat')) \n",
    "print(longestSubstringInString('bbbbbb')) \n",
    "print(longestSubstringInString('longestsubstring')) \n",
    "print(longestSubstringInString('thisishowwedoit')) \n",
    "print(longestSubstringInString('rollercoaster')) #8 because of 'lercoast'"
   ]
  }
 ],
 "metadata": {
  "kernelspec": {
   "display_name": "Python 3.9.4 64-bit",
   "language": "python",
   "name": "python3"
  },
  "language_info": {
   "codemirror_mode": {
    "name": "ipython",
    "version": 3
   },
   "file_extension": ".py",
   "mimetype": "text/x-python",
   "name": "python",
   "nbconvert_exporter": "python",
   "pygments_lexer": "ipython3",
   "version": "3.9.4"
  },
  "orig_nbformat": 4,
  "vscode": {
   "interpreter": {
    "hash": "9fba6359b708aad04e261c3e83789d3be4296e1bd8c7a2f4dc6022df0c95516c"
   }
  }
 },
 "nbformat": 4,
 "nbformat_minor": 2
}
